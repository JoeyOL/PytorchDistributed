{
 "cells": [
  {
   "cell_type": "markdown",
   "id": "230ccee8",
   "metadata": {},
   "source": [
    "+ 通过前面实现的DDP我们可以知道，数据并行之所以能够加速训练，是因为它能够提高每一个epoch训练的batch_size，并且使用ring allreduce缓解了传统PS-worker模式下的通信问题，但是，DDP会在每张卡上都保留一个模型的副本，仍然不能解决当模型过大使得一张卡放不下的问题，因此提出模型并行，将一份大模型按照不同的layer切分(shard)到不同的卡上，实现很简单，加载huggingface上面的模型时，会自动按照GPUs > CPU > Disk的优先级进行划分"
   ]
  },
  {
   "cell_type": "code",
   "execution_count": null,
   "id": "7874a942",
   "metadata": {},
   "outputs": [],
   "source": [
    "from transformers import LlamaTokenizer, LlamaForCausalLM, GenerationConfig\n",
    "model = LlamaForCausalLM.from_pretrained(\"decanlp/llama-7b-hf\", device_map=\"auto\", load_in_8bit=True)\n",
    "\n",
    "# 受限于学校局域网没有代理无法连接，大概效果就是会将模型参数平分到每张GPU上，即使模型能够放在一张GPU上也会分到多张GPU上\n",
    "print(model.hf_device_map)"
   ]
  },
  {
   "cell_type": "markdown",
   "id": "c7e20d6e",
   "metadata": {},
   "source": [
    "+ 下面实现一个ResNet50的模型分割"
   ]
  },
  {
   "cell_type": "code",
   "execution_count": 6,
   "id": "b16c9747",
   "metadata": {},
   "outputs": [],
   "source": [
    "import torch\n",
    "from torch import nn\n",
    "from torchvision.models.resnet import ResNet, Bottleneck\n",
    "from torchsummary import summary"
   ]
  },
  {
   "cell_type": "code",
   "execution_count": null,
   "id": "2cb28ee4",
   "metadata": {},
   "outputs": [],
   "source": [
    "model = ResNet(Bottleneck, [3, 4, 6, 3], num_classes=1000).to(\"cuda:0\")\n",
    "summary(model, (3, 128, 128), device=\"cuda\")"
   ]
  },
  {
   "cell_type": "code",
   "execution_count": 9,
   "id": "3337c169",
   "metadata": {},
   "outputs": [],
   "source": [
    "class ModelParallelResNet50(ResNet):\n",
    "    def __init__(self, num_classes=1000):\n",
    "        super().__init__(block=Bottleneck, layers=[3, 4, 6, 3], num_classes=num_classes)\n",
    "        # shard the model across GPUs\n",
    "        self.seq1 = nn.Sequential(\n",
    "            self.conv1,\n",
    "            self.bn1,\n",
    "            self.relu,\n",
    "            self.maxpool,\n",
    "            self.layer1,\n",
    "            self.layer2,\n",
    "        ).to(\"cuda:0\")\n",
    "        \n",
    "        self.seq2 = nn.Sequential(\n",
    "            self.layer3,\n",
    "            self.layer4,\n",
    "            self.avgpool,\n",
    "        ).to(\"cuda:1\")\n",
    "        \n",
    "        self.fc.to(\"cuda:1\")\n",
    "    \n",
    "    def forward(self, x):\n",
    "        x = self.seq1(x).to(\"cuda:1\")\n",
    "        x = self.seq2(x)\n",
    "        return self.fc(x.view(x.size(0), -1))"
   ]
  },
  {
   "cell_type": "code",
   "execution_count": 10,
   "id": "9288fa1d",
   "metadata": {},
   "outputs": [],
   "source": [
    "model = ModelParallelResNet50()"
   ]
  },
  {
   "cell_type": "code",
   "execution_count": 15,
   "id": "5d077cfc",
   "metadata": {},
   "outputs": [],
   "source": [
    "num_classes = 1000\n",
    "num_epoch = 3\n",
    "batch_size = 32\n",
    "img_size = (128, 128)\n",
    "\n",
    "def generate_random_data():\n",
    "    inputs = torch.randn(batch_size, 3, img_size[0], img_size[1])\n",
    "    one_hot_indices = torch.LongTensor(batch_size).random_(0, num_classes).view(batch_size, 1)\n",
    "    one_hot = torch.zeros(batch_size, num_classes).scatter_(1, one_hot_indices, 1)\n",
    "    return inputs, one_hot\n",
    "\n",
    "def train(model):\n",
    "    model.train()\n",
    "    loss_fn = nn.CrossEntropyLoss()\n",
    "    optimizer = torch.optim.Adam(model.parameters(), lr=1e-3)\n",
    "    \n",
    "    for _ in range(num_epoch):\n",
    "        inputs, labels = generate_random_data()\n",
    "        optimizer.zero_grad()\n",
    "        outputs = model(inputs.to(\"cuda:0\"))\n",
    "        loss = loss_fn(outputs, labels.to(outputs.device))\n",
    "        loss.backward()\n",
    "        optimizer.step()"
   ]
  },
  {
   "cell_type": "code",
   "execution_count": 16,
   "id": "47057cec",
   "metadata": {},
   "outputs": [],
   "source": [
    "import matplotlib.pyplot as plt\n",
    "import numpy as np\n",
    "import timeit\n",
    "\n",
    "num_repeat = 10\n",
    "\n",
    "stmt = \"train(model)\"\n",
    "\n",
    "# 模型并行\n",
    "setup = \"model = ModelParallelResNet50()\"\n",
    "mp_run_times = timeit.repeat(\n",
    "    stmt, setup, number=1, repeat=num_repeat, globals=globals())\n",
    "mp_mean, mp_std = np.mean(mp_run_times), np.std(mp_run_times)\n",
    "\n",
    "# 单卡\n",
    "setup = \"import torchvision.models as models;\" + \\\n",
    "        \"model = models.resnet50(num_classes=num_classes).to('cuda:0')\"\n",
    "rn_run_times = timeit.repeat(\n",
    "    stmt, setup, number=1, repeat=num_repeat, globals=globals())\n",
    "rn_mean, rn_std = np.mean(rn_run_times), np.std(rn_run_times)\n",
    "\n",
    "\n",
    "def plot(means, stds, labels, fig_name):\n",
    "    fig, ax = plt.subplots()\n",
    "    ax.bar(np.arange(len(means)), means, yerr=stds,\n",
    "           align='center', alpha=0.5, ecolor='red', capsize=10, width=0.6)\n",
    "    ax.set_ylabel('ResNet50 Execution Time (Second)')\n",
    "    ax.set_xticks(np.arange(len(means)))\n",
    "    ax.set_xticklabels(labels)\n",
    "    ax.yaxis.grid(True)\n",
    "    plt.tight_layout()"
   ]
  },
  {
   "cell_type": "code",
   "execution_count": null,
   "id": "b61d1c6e",
   "metadata": {},
   "outputs": [
    {
     "data": {
      "image/png": "[encoded data removed]",
      "text/plain": [
       "<Figure size 640x480 with 1 Axes>"
      ]
     },
     "metadata": {},
     "output_type": "display_data"
    }
   ],
   "source": [
    "plot(\n",
    "    [mp_mean, rn_mean],\n",
    "    [mp_std, rn_std],\n",
    "    ['Model Parallel', 'Single GPU'],\n",
    "    'model_parallel.png'\n",
    ")\n",
    "# 对比可以看出模型并行的速度比单卡慢了很多，主要是因为数据需要在两张GPU之间传输"
   ]
  }
 ],
 "metadata": {
  "kernelspec": {
   "display_name": "base",
   "language": "python",
   "name": "python3"
  },
  "language_info": {
   "codemirror_mode": {
    "name": "ipython",
    "version": 3
   },
   "file_extension": ".py",
   "mimetype": "text/x-python",
   "name": "python",
   "nbconvert_exporter": "python",
   "pygments_lexer": "ipython3",
   "version": "3.12.9"
  }
 },
 "nbformat": 4,
 "nbformat_minor": 5
}
